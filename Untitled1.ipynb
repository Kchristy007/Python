{
  "nbformat": 4,
  "nbformat_minor": 0,
  "metadata": {
    "colab": {
      "name": "Untitled1.ipynb",
      "provenance": [],
      "collapsed_sections": [],
      "include_colab_link": true
    },
    "kernelspec": {
      "name": "python3",
      "display_name": "Python 3"
    },
    "language_info": {
      "name": "python"
    }
  },
  "cells": [
    {
      "cell_type": "markdown",
      "metadata": {
        "id": "view-in-github",
        "colab_type": "text"
      },
      "source": [
        "<a href=\"https://colab.research.google.com/github/Kchristy007/Python/blob/main/Untitled1.ipynb\" target=\"_parent\"><img src=\"https://colab.research.google.com/assets/colab-badge.svg\" alt=\"Open In Colab\"/></a>"
      ]
    },
    {
      "cell_type": "code",
      "execution_count": null,
      "metadata": {
        "colab": {
          "base_uri": "https://localhost:8080/"
        },
        "id": "WicGK_w8_oDB",
        "outputId": "9ac700d4-896f-49fb-a87a-cc69d256f70f"
      },
      "outputs": [
        {
          "output_type": "stream",
          "name": "stdout",
          "text": [
            "Choice 1:Add, 2:Sub, 3:Div, 4:Mul, 5:Quit\n",
            "Enter the choice of operation : 3\n",
            "you have choosen division operation.\n",
            "Enter thr value for A: 30\n",
            "Enter the value for B: 20\n",
            "The Result 30 / 20 = 1.5\n"
          ]
        }
      ],
      "source": [
        "#operation program\n",
        "print(\"Choice 1:Add, 2:Sub, 3:Div, 4:Mul, 5:Quit\")\n",
        "n1=input(\"Enter the choice of operation : \")\n",
        "n=int(n1)\n",
        "if(n==1):\n",
        "  print(\"You have choosen addition operation.\")\n",
        "  a1=input(\"Enter the value for A: \")\n",
        "  b1=input(\"Enter the value for B: \")\n",
        "  a=int(a1)\n",
        "  b=int(b1)\n",
        "  c=a+b\n",
        "  print(\"The Result\",a,\"+\",b,\"=\",c)\n",
        "elif(n==2):\n",
        "  print(\"you have choosen subtraction operation.\")\n",
        "  a1=input(\"Enter the value for A: \")\n",
        "  b1=input(\"Enter the value for B: \")\n",
        "  a=int(a1)\n",
        "  b=int(b1)\n",
        "  c=a-b\n",
        "  print(\"The Result\",a,\"-\",b,\"=\",c)\n",
        "elif(n==3):\n",
        "  print(\"you have choosen division operation.\")\n",
        "  a1=input(\"Enter thr value for A: \")\n",
        "  b1=input(\"Enter the value for B: \")\n",
        "  a=int(a1)\n",
        "  b=int(b1)\n",
        "  c=a/b\n",
        "  print(\"The Result\",a,\"/\",b,\"=\",c)\n",
        "elif(n==4):\n",
        "  print(\"you have choosen multiplication operation.\")\n",
        "  a1=input(\"Enter the value for A: \")\n",
        "  b1=input(\"Enter the value for B: \")\n",
        "  a=int(a1)\n",
        "  b=int(b1)\n",
        "  c=a*b\n",
        "  print(\"The Result\",a,\"*\",b,\"=\",c)\n",
        "elif(n==5):\n",
        "  print(\"quit the operation\")\n",
        "  exit()"
      ]
    },
    {
      "cell_type": "code",
      "source": [
        "x=10\n",
        "x+=1\n",
        "print(x)"
      ],
      "metadata": {
        "colab": {
          "base_uri": "https://localhost:8080/"
        },
        "id": "FFAakqJwEpS4",
        "outputId": "d5339283-2bb2-4744-c3c8-4747217e2e96"
      },
      "execution_count": null,
      "outputs": [
        {
          "output_type": "stream",
          "name": "stdout",
          "text": [
            "11\n"
          ]
        }
      ]
    },
    {
      "cell_type": "code",
      "source": [
        "x=10\n",
        "x-=1\n",
        "print(x)\n"
      ],
      "metadata": {
        "colab": {
          "base_uri": "https://localhost:8080/"
        },
        "id": "zkMjCSqGFEVQ",
        "outputId": "8ec9f219-ca50-488b-912a-9eda7302a9d5"
      },
      "execution_count": null,
      "outputs": [
        {
          "output_type": "stream",
          "name": "stdout",
          "text": [
            "9\n"
          ]
        }
      ]
    },
    {
      "cell_type": "code",
      "source": [
        "x=5\n",
        "x*=5 \n",
        "print(x)"
      ],
      "metadata": {
        "colab": {
          "base_uri": "https://localhost:8080/"
        },
        "id": "3oYztURmFKZR",
        "outputId": "cc7dd3a9-00c6-4d70-da28-b2fcb08b83e1"
      },
      "execution_count": null,
      "outputs": [
        {
          "output_type": "stream",
          "name": "stdout",
          "text": [
            "25\n"
          ]
        }
      ]
    },
    {
      "cell_type": "code",
      "source": [
        "#fibonacci series\n",
        "print(\"Fibonacci Series\")\n",
        "n1=input(\"Enter the number: \")\n",
        "n=int(n1)\n",
        "if(n>0):\n",
        "  f=0\n",
        "  s=1\n",
        "  i=0\n",
        "  next=0\n",
        "  while(1):\n",
        "    print(\"\\n\\n*******************************************\")\n",
        "    for i in range(n+1):\n",
        "      if(i<=1):\n",
        "        print(i)\n",
        "      else:\n",
        "        next=f+s\n",
        "        f=s\n",
        "        s=next\n",
        "        print(next)\n",
        "    i=i+1\n",
        "    break\n",
        "else:\n",
        "  print(\"you have entered wrong input\",n)\n",
        "  exit()"
      ],
      "metadata": {
        "id": "5p-7Ame3FS7_",
        "colab": {
          "base_uri": "https://localhost:8080/"
        },
        "outputId": "0ff74f78-e40a-4148-ae8e-56f02ef07d10"
      },
      "execution_count": null,
      "outputs": [
        {
          "output_type": "stream",
          "name": "stdout",
          "text": [
            "Fibonacci Series\n",
            "Enter the number: 10\n",
            "\n",
            "\n",
            "*******************************************\n",
            "0\n",
            "1\n",
            "1\n",
            "2\n",
            "3\n",
            "5\n",
            "8\n",
            "13\n",
            "21\n",
            "34\n",
            "55\n"
          ]
        }
      ]
    },
    {
      "cell_type": "code",
      "source": [
        "#arithmetic operation\n",
        "value1=eval(input(\"Enter the first number: \"))\n",
        "value2=eval(input(\"Enter the second number: \"))\n",
        "sum=value1+value2\n",
        "print(value1,'+',value2,'=',sum)"
      ],
      "metadata": {
        "colab": {
          "base_uri": "https://localhost:8080/"
        },
        "id": "kUodis4rIBxn",
        "outputId": "d9e8e27a-bbab-42d7-cd07-6281963a4d7c"
      },
      "execution_count": null,
      "outputs": [
        {
          "output_type": "stream",
          "name": "stdout",
          "text": [
            "Enter the first number: 30\n",
            "Enter the second number: 24\n",
            "30 + 24 = 54\n"
          ]
        }
      ]
    },
    {
      "cell_type": "code",
      "source": [
        "#arithmetic operators\n",
        "x=30\n",
        "y=24\n",
        "print('x+y=',x+y)\n",
        "print('x-y=',x-y)\n",
        "print('x*y=',x*y)\n",
        "print('x/y=',x/y)\n",
        "print('x//y=',x//y)\n",
        "print('x**y=',x**y)"
      ],
      "metadata": {
        "colab": {
          "base_uri": "https://localhost:8080/"
        },
        "id": "DL7C6gswO0IX",
        "outputId": "419c6ff1-14a0-4a5d-f469-eae6900ecb73"
      },
      "execution_count": null,
      "outputs": [
        {
          "output_type": "stream",
          "name": "stdout",
          "text": [
            "x+y= 54\n",
            "x-y= 6\n",
            "x*y= 720\n",
            "x/y= 1.25\n",
            "x//y= 1\n",
            "x**y= 282429536481000000000000000000000000\n"
          ]
        }
      ]
    },
    {
      "cell_type": "code",
      "source": [
        "#comparsion operators\n",
        "x=10\n",
        "y=5\n",
        "print(\"x > y is\",x>y)\n",
        "print(\"x < y is\",x<y)\n",
        "print(\"x == y is\",x==y)\n",
        "print(\"x != y is\",x!=y)\n",
        "print(\"x >= y is\",x>=y)\n",
        "print(\"x <= y is\",x<=y)"
      ],
      "metadata": {
        "colab": {
          "base_uri": "https://localhost:8080/"
        },
        "id": "JxbSX-FHPTko",
        "outputId": "4a0f6ef6-845a-4476-ca67-0bc7886fe149"
      },
      "execution_count": null,
      "outputs": [
        {
          "output_type": "stream",
          "name": "stdout",
          "text": [
            "x > y is True\n",
            "x < y is False\n",
            "x == y is False\n",
            "x != y is True\n",
            "x >= y is True\n",
            "x <= y is False\n"
          ]
        }
      ]
    },
    {
      "cell_type": "code",
      "source": [
        "#logical operators\n",
        "x=True\n",
        "y=False\n",
        "print(\"x and y is\", x and y)\n",
        "print(\"x or y is\", x or y)\n",
        "print(\"not x is\",  not x)"
      ],
      "metadata": {
        "id": "EPp7queSQ3L_",
        "colab": {
          "base_uri": "https://localhost:8080/"
        },
        "outputId": "e285539d-ad21-4c57-92ec-828c94d699b1"
      },
      "execution_count": null,
      "outputs": [
        {
          "output_type": "stream",
          "name": "stdout",
          "text": [
            "x and y is False\n",
            "x or y is True\n",
            "not x is False\n"
          ]
        }
      ]
    },
    {
      "cell_type": "code",
      "source": [
        "#identity operators\n",
        "x1=5\n",
        "y1=5\n",
        "x2='Hello'\n",
        "y2='Hello'\n",
        "x3=[1,2,3]\n",
        "y3=[1,2,3]\n",
        "print(x1 is not y1)\n",
        "print(x2 is y2)\n",
        "print(x3 is not y3)"
      ],
      "metadata": {
        "colab": {
          "base_uri": "https://localhost:8080/"
        },
        "id": "LSuqLE8mRtuB",
        "outputId": "3b31a991-dad7-42b0-bad1-816315a5f2f7"
      },
      "execution_count": null,
      "outputs": [
        {
          "output_type": "stream",
          "name": "stdout",
          "text": [
            "False\n",
            "True\n",
            "True\n"
          ]
        }
      ]
    },
    {
      "cell_type": "code",
      "source": [
        "#membership operators\n",
        "x='Hello World'\n",
        "y={1:'a',2:'b'}\n",
        "print('E' in x)\n",
        "print(\"hello\" not in x)\n",
        "print(2 in y)\n",
        "print('a' in y)"
      ],
      "metadata": {
        "colab": {
          "base_uri": "https://localhost:8080/"
        },
        "id": "K9tOyT9xSPBN",
        "outputId": "0c738761-d14b-4177-99f3-43cc55fdac77"
      },
      "execution_count": null,
      "outputs": [
        {
          "output_type": "stream",
          "name": "stdout",
          "text": [
            "False\n",
            "True\n",
            "True\n",
            "False\n"
          ]
        }
      ]
    },
    {
      "cell_type": "code",
      "source": [
        "#shift operators\n",
        "a=15\n",
        "b=-15\n",
        "print(\"a>>1=\",a>>1)\n",
        "print(\"b>>1=\",b>>1)"
      ],
      "metadata": {
        "colab": {
          "base_uri": "https://localhost:8080/"
        },
        "id": "Re32OZ3fS2aY",
        "outputId": "1cd1d688-20c2-42a3-e81d-99738f226700"
      },
      "execution_count": null,
      "outputs": [
        {
          "output_type": "stream",
          "name": "stdout",
          "text": [
            "a>>1= 7\n",
            "b>>1= -8\n"
          ]
        }
      ]
    },
    {
      "cell_type": "code",
      "source": [
        "#boolean expression\n",
        "a=True\n",
        "b=False\n",
        "print('a=',a,'b=',b)\n",
        "a=True\n",
        "print('a=',a,'b=',b)"
      ],
      "metadata": {
        "colab": {
          "base_uri": "https://localhost:8080/"
        },
        "id": "4hTo33C9Ul14",
        "outputId": "6989e79e-352e-4155-903b-ddd849e96d4e"
      },
      "execution_count": null,
      "outputs": [
        {
          "output_type": "stream",
          "name": "stdout",
          "text": [
            "a= True b= False\n",
            "a= True b= False\n"
          ]
        }
      ]
    },
    {
      "cell_type": "code",
      "source": [
        "#simple if statement\n",
        "dividend,divisor =eval(input(\"Enter the two number to divide: \"))\n",
        "if(divisor != 0):\n",
        "  print(dividend,'/',divisor,'=',dividend/divisor)"
      ],
      "metadata": {
        "colab": {
          "base_uri": "https://localhost:8080/"
        },
        "id": "uiuYlrPAVYX4",
        "outputId": "aa936b3c-5f58-40fb-f208-74bc5657d0c7"
      },
      "execution_count": null,
      "outputs": [
        {
          "output_type": "stream",
          "name": "stdout",
          "text": [
            "Enter the two number to divide: 30,5\n",
            "30 / 5 = 6.0\n"
          ]
        }
      ]
    },
    {
      "cell_type": "code",
      "source": [
        "#Multi-way decision statements\n",
        "value= eval(input(\"Enteran integer in the range 0....5: \"))\n",
        "if value<0:\n",
        "  print('Too small')\n",
        "else:\n",
        "  if value==0:\n",
        "    print(\"Zero\")\n",
        "  else:\n",
        "    if value==1:\n",
        "      print(\"One\")\n",
        "    else:\n",
        "      if value==2:\n",
        "        print(\"Two\")\n",
        "      else:\n",
        "        if value==3:\n",
        "          print(\"Three\")\n",
        "        else:\n",
        "          if value==4:\n",
        "            print(\"Four\") \n",
        "          else:\n",
        "            if value==5:\n",
        "              print(\"Five\")\n",
        "            else:\n",
        "               print(\"Too large\")\n",
        "print(\"Done\") "
      ],
      "metadata": {
        "colab": {
          "base_uri": "https://localhost:8080/"
        },
        "id": "mt8JXyG_aP-5",
        "outputId": "cc6a48f3-7a93-4824-9df4-c2a99b78cc72"
      },
      "execution_count": null,
      "outputs": [
        {
          "output_type": "stream",
          "name": "stdout",
          "text": [
            "Enteran integer in the range 0....5: 5\n",
            "Five\n",
            "Done\n"
          ]
        }
      ]
    },
    {
      "cell_type": "code",
      "source": [
        "#nested conditional\n",
        "value=eval(input(\"Enter an integer value inthe range 0....10: \"))\n",
        "if value>=0:\n",
        "  if value<=10:\n",
        "    print(value,\"is in the range.\")\n",
        "  else:\n",
        "    print(value,\"is too large.\")\n",
        "else:\n",
        "  print(value,\"is too small.\")\n",
        "print(\"done\")"
      ],
      "metadata": {
        "colab": {
          "base_uri": "https://localhost:8080/"
        },
        "id": "eWUlVH5UccNg",
        "outputId": "9c89288b-1487-4b4e-9027-fea43f79ef7f"
      },
      "execution_count": null,
      "outputs": [
        {
          "output_type": "stream",
          "name": "stdout",
          "text": [
            "Enter an integer value inthe range 0....10: 9\n",
            "9 is in the range.\n",
            "done\n"
          ]
        }
      ]
    },
    {
      "cell_type": "code",
      "source": [
        "entry=0\n",
        "sum=0\n",
        "print(\"Enter numbers to sum,negative number end list: \")\n",
        "while entry>=0:\n",
        "  entry=eval(input())\n",
        "  if entry>=0:\n",
        "    sum+=entry\n",
        "print(\"Sum =\", sum)"
      ],
      "metadata": {
        "id": "WfW5exV5d6EY",
        "outputId": "b720540d-932f-4292-cf2d-689413ea21ca",
        "colab": {
          "base_uri": "https://localhost:8080/"
        }
      },
      "execution_count": null,
      "outputs": [
        {
          "output_type": "stream",
          "name": "stdout",
          "text": [
            "Enter numbers to sum,negative number end list: \n",
            "5\n",
            "6\n",
            "8\n",
            "9\n",
            "9\n",
            "69\n",
            "56\n",
            "68\n",
            "-56\n",
            "Sum = 230\n"
          ]
        }
      ]
    },
    {
      "cell_type": "code",
      "source": [
        "#indefinite loop\n",
        "done =False \n",
        "while not done:\n",
        "  entry=eval(input())\n",
        "  if entry==999:\n",
        "    done=True\n",
        "  else:\n",
        "    print(entry)"
      ],
      "metadata": {
        "id": "M5D_Sf_Oe9hP",
        "outputId": "3764b425-e60b-4705-a7fd-e633d8ffe0a1",
        "colab": {
          "base_uri": "https://localhost:8080/"
        }
      },
      "execution_count": null,
      "outputs": [
        {
          "name": "stdout",
          "output_type": "stream",
          "text": [
            "98\n",
            "98\n",
            "5\n",
            "5\n",
            "999\n"
          ]
        }
      ]
    },
    {
      "cell_type": "code",
      "source": [
        "#nested loops\n",
        "print(\" 1  2  3  4  5  6  7  8  9  10\")\n",
        "print(\" +---------------------------\")\n",
        "for row in range(1,11):\n",
        "  if row<10:\n",
        "    print(\" \",end=\"\")\n",
        "  print(row, \"| \",end=\"\")\n",
        "  for column in range(1,11):\n",
        "    product = row+column;\n",
        "    if product<100:\n",
        "      print(end=\"\")\n",
        "    if product<10:\n",
        "      print(end=\"\")\n",
        "    print(product,end=\"\")\n",
        "  print()"
      ],
      "metadata": {
        "id": "3rb-u7-efbII",
        "outputId": "d973e482-8688-4983-bab1-c65695a052d0",
        "colab": {
          "base_uri": "https://localhost:8080/"
        }
      },
      "execution_count": null,
      "outputs": [
        {
          "output_type": "stream",
          "name": "stdout",
          "text": [
            " 1  2  3  4  5  6  7  8  9  10\n",
            " +---------------------------\n",
            " 1 | 234567891011\n",
            " 2 | 3456789101112\n",
            " 3 | 45678910111213\n",
            " 4 | 567891011121314\n",
            " 5 | 6789101112131415\n",
            " 6 | 78910111213141516\n",
            " 7 | 891011121314151617\n",
            " 8 | 9101112131415161718\n",
            " 9 | 10111213141516171819\n",
            "10 | 11121314151617181920\n"
          ]
        }
      ]
    },
    {
      "cell_type": "code",
      "source": [
        "#abnormal looping-break statement\n",
        "entry=0\n",
        "sum=0\n",
        "print(\"Enter numbers t0 sum,negative number ends list:\")\n",
        "while True:\n",
        "  entry=eval(input())\n",
        "  if entry<0:\n",
        "    break\n",
        "    sum +=entry\n",
        "print(\"Sum=\",sum)"
      ],
      "metadata": {
        "id": "JNWEjzfOgizo",
        "outputId": "2260e02b-9b7b-4320-9902-75a990594ce8",
        "colab": {
          "base_uri": "https://localhost:8080/"
        }
      },
      "execution_count": null,
      "outputs": [
        {
          "output_type": "stream",
          "name": "stdout",
          "text": [
            "Enter numbers t0 sum,negative number ends list:\n",
            "65\n",
            "96\n",
            "35\n",
            "-56\n",
            "Sum= 0\n"
          ]
        }
      ]
    },
    {
      "cell_type": "code",
      "source": [
        ""
      ],
      "metadata": {
        "id": "sxISBFlShLjw"
      },
      "execution_count": null,
      "outputs": []
    }
  ]
}